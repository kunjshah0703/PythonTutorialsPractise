{
 "cells": [
  {
   "cell_type": "code",
   "execution_count": 1,
   "id": "6fbae521",
   "metadata": {},
   "outputs": [],
   "source": [
    "import pandas as pd"
   ]
  },
  {
   "cell_type": "code",
   "execution_count": 2,
   "id": "523523ea",
   "metadata": {},
   "outputs": [
    {
     "data": {
      "text/plain": [
       "7/4/2014      2000\n",
       "1/2/2015      2000\n",
       "12/8/2012     1000\n",
       "2/20/2015     2000\n",
       "10/28/2013    2000\n",
       "4/19/2015     2000\n",
       "9/3/2015      4000\n",
       "7/25/2016     2000\n",
       "5/1/2014      2000\n",
       "3/29/2014     2000\n",
       "10/3/2014     2000\n",
       "9/18/2015     2500\n",
       "dtype: int64"
      ]
     },
     "execution_count": 2,
     "metadata": {},
     "output_type": "execute_result"
    }
   ],
   "source": [
    "start_date_deposits = pd.Series({\n",
    "    '7/4/2014' : 2000,\n",
    "     '1/2/2015' : 2000,\n",
    "     '12/8/2012' : 1000,\n",
    "     '2/20/2015' : 2000,\n",
    "     '10/28/2013' : 2000,\n",
    "     '4/19/2015' : 2000,\n",
    "     '9/3/2015' : 4000,\n",
    "     '7/25/2016' : 2000,\n",
    "     '5/1/2014' : 2000,\n",
    "     '3/29/2014' : 2000,\n",
    "     '10/3/2014' : 2000,\n",
    "     '9/18/2015' : 2500,\n",
    "})\n",
    "start_date_deposits"
   ]
  },
  {
   "cell_type": "code",
   "execution_count": 3,
   "id": "0afd00ef",
   "metadata": {},
   "outputs": [
    {
     "data": {
      "text/plain": [
       "<bound method NDFrame._add_numeric_operations.<locals>.sum of 7/4/2014      2000\n",
       "1/2/2015      2000\n",
       "12/8/2012     1000\n",
       "2/20/2015     2000\n",
       "10/28/2013    2000\n",
       "4/19/2015     2000\n",
       "9/3/2015      4000\n",
       "7/25/2016     2000\n",
       "5/1/2014      2000\n",
       "3/29/2014     2000\n",
       "10/3/2014     2000\n",
       "9/18/2015     2500\n",
       "dtype: int64>"
      ]
     },
     "execution_count": 3,
     "metadata": {},
     "output_type": "execute_result"
    }
   ],
   "source": [
    "start_date_deposits.sum"
   ]
  },
  {
   "cell_type": "code",
   "execution_count": 4,
   "id": "650c53f2",
   "metadata": {},
   "outputs": [
    {
     "data": {
      "text/plain": [
       "25500"
      ]
     },
     "execution_count": 4,
     "metadata": {},
     "output_type": "execute_result"
    }
   ],
   "source": [
    "start_date_deposits.sum()"
   ]
  },
  {
   "cell_type": "code",
   "execution_count": 5,
   "id": "f9d88d90",
   "metadata": {},
   "outputs": [
    {
     "data": {
      "text/plain": [
       "1000"
      ]
     },
     "execution_count": 5,
     "metadata": {},
     "output_type": "execute_result"
    }
   ],
   "source": [
    "start_date_deposits.min()"
   ]
  },
  {
   "cell_type": "code",
   "execution_count": 6,
   "id": "7921f87a",
   "metadata": {},
   "outputs": [
    {
     "data": {
      "text/plain": [
       "4000"
      ]
     },
     "execution_count": 6,
     "metadata": {},
     "output_type": "execute_result"
    }
   ],
   "source": [
    "start_date_deposits.max()"
   ]
  },
  {
   "cell_type": "code",
   "execution_count": 7,
   "id": "af36baa1",
   "metadata": {},
   "outputs": [
    {
     "ename": "AttributeError",
     "evalue": "'Series' object has no attribute 'idmax'",
     "output_type": "error",
     "traceback": [
      "\u001b[1;31m---------------------------------------------------------------------------\u001b[0m",
      "\u001b[1;31mAttributeError\u001b[0m                            Traceback (most recent call last)",
      "Input \u001b[1;32mIn [7]\u001b[0m, in \u001b[0;36m<cell line: 1>\u001b[1;34m()\u001b[0m\n\u001b[1;32m----> 1\u001b[0m \u001b[43mstart_date_deposits\u001b[49m\u001b[38;5;241;43m.\u001b[39;49m\u001b[43midmax\u001b[49m()\n",
      "File \u001b[1;32m~\\AppData\\Roaming\\Python\\Python39\\site-packages\\pandas\\core\\generic.py:5902\u001b[0m, in \u001b[0;36mNDFrame.__getattr__\u001b[1;34m(self, name)\u001b[0m\n\u001b[0;32m   5895\u001b[0m \u001b[38;5;28;01mif\u001b[39;00m (\n\u001b[0;32m   5896\u001b[0m     name \u001b[38;5;129;01mnot\u001b[39;00m \u001b[38;5;129;01min\u001b[39;00m \u001b[38;5;28mself\u001b[39m\u001b[38;5;241m.\u001b[39m_internal_names_set\n\u001b[0;32m   5897\u001b[0m     \u001b[38;5;129;01mand\u001b[39;00m name \u001b[38;5;129;01mnot\u001b[39;00m \u001b[38;5;129;01min\u001b[39;00m \u001b[38;5;28mself\u001b[39m\u001b[38;5;241m.\u001b[39m_metadata\n\u001b[0;32m   5898\u001b[0m     \u001b[38;5;129;01mand\u001b[39;00m name \u001b[38;5;129;01mnot\u001b[39;00m \u001b[38;5;129;01min\u001b[39;00m \u001b[38;5;28mself\u001b[39m\u001b[38;5;241m.\u001b[39m_accessors\n\u001b[0;32m   5899\u001b[0m     \u001b[38;5;129;01mand\u001b[39;00m \u001b[38;5;28mself\u001b[39m\u001b[38;5;241m.\u001b[39m_info_axis\u001b[38;5;241m.\u001b[39m_can_hold_identifiers_and_holds_name(name)\n\u001b[0;32m   5900\u001b[0m ):\n\u001b[0;32m   5901\u001b[0m     \u001b[38;5;28;01mreturn\u001b[39;00m \u001b[38;5;28mself\u001b[39m[name]\n\u001b[1;32m-> 5902\u001b[0m \u001b[38;5;28;01mreturn\u001b[39;00m \u001b[38;5;28;43mobject\u001b[39;49m\u001b[38;5;241;43m.\u001b[39;49m\u001b[38;5;21;43m__getattribute__\u001b[39;49m\u001b[43m(\u001b[49m\u001b[38;5;28;43mself\u001b[39;49m\u001b[43m,\u001b[49m\u001b[43m \u001b[49m\u001b[43mname\u001b[49m\u001b[43m)\u001b[49m\n",
      "\u001b[1;31mAttributeError\u001b[0m: 'Series' object has no attribute 'idmax'"
     ]
    }
   ],
   "source": [
    "start_date_deposits.idmax()"
   ]
  },
  {
   "cell_type": "code",
   "execution_count": 8,
   "id": "53c98af8",
   "metadata": {},
   "outputs": [
    {
     "data": {
      "text/plain": [
       "'9/3/2015'"
      ]
     },
     "execution_count": 8,
     "metadata": {},
     "output_type": "execute_result"
    }
   ],
   "source": [
    "start_date_deposits.idxmax()"
   ]
  },
  {
   "cell_type": "code",
   "execution_count": 9,
   "id": "2953df41",
   "metadata": {},
   "outputs": [
    {
     "data": {
      "text/plain": [
       "'12/8/2012'"
      ]
     },
     "execution_count": 9,
     "metadata": {},
     "output_type": "execute_result"
    }
   ],
   "source": [
    "start_date_deposits.idxmin()"
   ]
  },
  {
   "cell_type": "code",
   "execution_count": 11,
   "id": "08c671eb",
   "metadata": {},
   "outputs": [
    {
     "data": {
      "text/plain": [
       "7/4/2014      2000\n",
       "1/2/2015      2000\n",
       "12/8/2012     1000\n",
       "2/20/2015     2000\n",
       "10/28/2013    2000\n",
       "4/19/2015     2000\n",
       "4/24/2014     2000\n",
       "9/3/2015      4000\n",
       "7/25/2016     2000\n",
       "5/1/2014      2000\n",
       "3/29/2014     2000\n",
       "10/3/2014     2000\n",
       "9/18/2015     2500\n",
       "dtype: int64"
      ]
     },
     "execution_count": 11,
     "metadata": {},
     "output_type": "execute_result"
    }
   ],
   "source": [
    "start_date_deposits1 = pd.Series({\n",
    "    '7/4/2014' : 2000,\n",
    "     '1/2/2015' : 2000,\n",
    "     '12/8/2012' : 1000,\n",
    "     '2/20/2015' : 2000,\n",
    "     '10/28/2013' : 2000,\n",
    "     '4/19/2015' : 2000,\n",
    "    '4/24/2014' : 2000,\n",
    "     '9/3/2015' : 4000,\n",
    "     '7/25/2016' : 2000,\n",
    "     '5/1/2014' : 2000,\n",
    "     '3/29/2014' : 2000,\n",
    "     '10/3/2014' : 2000,\n",
    "     '9/18/2015' : 2500,\n",
    "})\n",
    "start_date_deposits1"
   ]
  },
  {
   "cell_type": "code",
   "execution_count": 12,
   "id": "391369d7",
   "metadata": {},
   "outputs": [
    {
     "data": {
      "text/plain": [
       "7/4/2014      2000\n",
       "1/2/2015      2000\n",
       "12/8/2012     1000\n",
       "2/20/2015     2000\n",
       "10/28/2013    2000\n",
       "dtype: int64"
      ]
     },
     "execution_count": 12,
     "metadata": {},
     "output_type": "execute_result"
    }
   ],
   "source": [
    "start_date_deposits1.head()"
   ]
  },
  {
   "cell_type": "code",
   "execution_count": 14,
   "id": "2f81087a",
   "metadata": {},
   "outputs": [
    {
     "data": {
      "text/plain": [
       "7/25/2016    2000\n",
       "5/1/2014     2000\n",
       "3/29/2014    2000\n",
       "10/3/2014    2000\n",
       "9/18/2015    2500\n",
       "dtype: int64"
      ]
     },
     "execution_count": 14,
     "metadata": {},
     "output_type": "execute_result"
    }
   ],
   "source": [
    "start_date_deposits1.tail()"
   ]
  },
  {
   "cell_type": "code",
   "execution_count": null,
   "id": "c3e5860a",
   "metadata": {},
   "outputs": [],
   "source": []
  }
 ],
 "metadata": {
  "kernelspec": {
   "display_name": "Python 3 (ipykernel)",
   "language": "python",
   "name": "python3"
  },
  "language_info": {
   "codemirror_mode": {
    "name": "ipython",
    "version": 3
   },
   "file_extension": ".py",
   "mimetype": "text/x-python",
   "name": "python",
   "nbconvert_exporter": "python",
   "pygments_lexer": "ipython3",
   "version": "3.9.12"
  }
 },
 "nbformat": 4,
 "nbformat_minor": 5
}
