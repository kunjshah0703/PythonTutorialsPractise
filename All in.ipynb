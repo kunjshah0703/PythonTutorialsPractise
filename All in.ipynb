{
 "cells": [
  {
   "cell_type": "code",
   "execution_count": 1,
   "id": "e8c42202",
   "metadata": {},
   "outputs": [],
   "source": [
    "def count(numbers):\n",
    "    total = 0\n",
    "    for x in numbers:\n",
    "        if x < 20:\n",
    "            total += 1\n",
    "    return total"
   ]
  },
  {
   "cell_type": "code",
   "execution_count": 4,
   "id": "a1ef6956",
   "metadata": {},
   "outputs": [],
   "source": [
    "list_1 = [1, 3, 7, 15, 23, 43, 56, 98, 17]"
   ]
  },
  {
   "cell_type": "code",
   "execution_count": 5,
   "id": "9a1d87ad",
   "metadata": {},
   "outputs": [
    {
     "data": {
      "text/plain": [
       "5"
      ]
     },
     "execution_count": 5,
     "metadata": {},
     "output_type": "execute_result"
    }
   ],
   "source": [
    "count(list_1)"
   ]
  },
  {
   "cell_type": "markdown",
   "id": "77530297",
   "metadata": {},
   "source": [
    "Iterating Over dictionary"
   ]
  },
  {
   "cell_type": "code",
   "execution_count": 7,
   "id": "55f2b7a6",
   "metadata": {},
   "outputs": [
    {
     "name": "stdout",
     "output_type": "stream",
     "text": [
      "74\n"
     ]
    }
   ],
   "source": [
    "prices = {\n",
    "    \"box_of_spaghetti\" : 4,\n",
    "    \"lasagna\" : 5,\n",
    "    \"hamburger\" : 2\n",
    "}\n",
    "quantity = {\n",
    "    \"box_of_spaghetti\" : 6,\n",
    "    \"lasagna\" : 10,\n",
    "    \"hamburger\" : 0\n",
    "}\n",
    "\n",
    "money_spent = 0\n",
    "\n",
    "for i in prices:\n",
    "    money_spent = money_spent + (prices[i] * quantity[i])\n",
    "    \n",
    "print (money_spent)"
   ]
  }
 ],
 "metadata": {
  "kernelspec": {
   "display_name": "Python 3 (ipykernel)",
   "language": "python",
   "name": "python3"
  },
  "language_info": {
   "codemirror_mode": {
    "name": "ipython",
    "version": 3
   },
   "file_extension": ".py",
   "mimetype": "text/x-python",
   "name": "python",
   "nbconvert_exporter": "python",
   "pygments_lexer": "ipython3",
   "version": "3.9.12"
  }
 },
 "nbformat": 4,
 "nbformat_minor": 5
}
