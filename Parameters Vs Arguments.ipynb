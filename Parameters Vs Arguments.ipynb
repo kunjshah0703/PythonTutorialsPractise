{
 "cells": [
  {
   "cell_type": "code",
   "execution_count": 1,
   "id": "db94ab56",
   "metadata": {},
   "outputs": [],
   "source": [
    "import pandas as pd"
   ]
  },
  {
   "cell_type": "code",
   "execution_count": 2,
   "id": "63ac995d",
   "metadata": {},
   "outputs": [
    {
     "data": {
      "text/plain": [
       "7/4/2014      2000\n",
       "1/2/2015      2000\n",
       "12/8/2012     1000\n",
       "2/20/2015     2000\n",
       "10/28/2013    2000\n",
       "4/19/2015     2000\n",
       "7/4/2016      2000\n",
       "4/24/2014     2000\n",
       "9/3/2015      4000\n",
       "7/25/2016     2000\n",
       "5/1/2014      2000\n",
       "3/29/2014     2000\n",
       "10/3/2014     2000\n",
       "9/18/2015     2500\n",
       "dtype: int64"
      ]
     },
     "execution_count": 2,
     "metadata": {},
     "output_type": "execute_result"
    }
   ],
   "source": [
    "start_date_deposits = pd.Series({\n",
    "    '7/4/2014' : 2000,\n",
    "     '1/2/2015' : 2000,\n",
    "     '12/8/2012' : 1000,\n",
    "     '2/20/2015' : 2000,\n",
    "     '10/28/2013' : 2000,\n",
    "     '4/19/2015' : 2000,\n",
    "    '7/4/2016' : 2000,\n",
    "    '4/24/2014' : 2000,\n",
    "     '9/3/2015' : 4000,\n",
    "     '7/25/2016' : 2000,\n",
    "     '5/1/2014' : 2000,\n",
    "     '3/29/2014' : 2000,\n",
    "     '10/3/2014' : 2000,\n",
    "     '9/18/2015' : 2500,\n",
    "})\n",
    "start_date_deposits\n"
   ]
  },
  {
   "cell_type": "code",
   "execution_count": 3,
   "id": "41e81070",
   "metadata": {},
   "outputs": [
    {
     "data": {
      "text/plain": [
       "7/4/2014      2000\n",
       "1/2/2015      2000\n",
       "12/8/2012     1000\n",
       "2/20/2015     2000\n",
       "10/28/2013    2000\n",
       "dtype: int64"
      ]
     },
     "execution_count": 3,
     "metadata": {},
     "output_type": "execute_result"
    }
   ],
   "source": [
    "start_date_deposits.head()"
   ]
  },
  {
   "cell_type": "code",
   "execution_count": 4,
   "id": "dd87504d",
   "metadata": {},
   "outputs": [
    {
     "data": {
      "text/plain": [
       "7/4/2014     2000\n",
       "1/2/2015     2000\n",
       "12/8/2012    1000\n",
       "dtype: int64"
      ]
     },
     "execution_count": 4,
     "metadata": {},
     "output_type": "execute_result"
    }
   ],
   "source": [
    "start_date_deposits.head(3)"
   ]
  },
  {
   "cell_type": "code",
   "execution_count": 5,
   "id": "37179634",
   "metadata": {},
   "outputs": [
    {
     "data": {
      "text/plain": [
       "7/4/2014      2000\n",
       "1/2/2015      2000\n",
       "12/8/2012     1000\n",
       "2/20/2015     2000\n",
       "10/28/2013    2000\n",
       "4/19/2015     2000\n",
       "7/4/2016      2000\n",
       "4/24/2014     2000\n",
       "9/3/2015      4000\n",
       "7/25/2016     2000\n",
       "dtype: int64"
      ]
     },
     "execution_count": 5,
     "metadata": {},
     "output_type": "execute_result"
    }
   ],
   "source": [
    "start_date_deposits.head(10)"
   ]
  },
  {
   "cell_type": "code",
   "execution_count": 6,
   "id": "49e26e80",
   "metadata": {},
   "outputs": [
    {
     "data": {
      "text/plain": [
       "7/4/2014      2000\n",
       "1/2/2015      2000\n",
       "12/8/2012     1000\n",
       "2/20/2015     2000\n",
       "10/28/2013    2000\n",
       "dtype: int64"
      ]
     },
     "execution_count": 6,
     "metadata": {},
     "output_type": "execute_result"
    }
   ],
   "source": [
    "start_date_deposits.head()"
   ]
  }
 ],
 "metadata": {
  "kernelspec": {
   "display_name": "Python 3 (ipykernel)",
   "language": "python",
   "name": "python3"
  },
  "language_info": {
   "codemirror_mode": {
    "name": "ipython",
    "version": 3
   },
   "file_extension": ".py",
   "mimetype": "text/x-python",
   "name": "python",
   "nbconvert_exporter": "python",
   "pygments_lexer": "ipython3",
   "version": "3.9.12"
  }
 },
 "nbformat": 4,
 "nbformat_minor": 5
}
