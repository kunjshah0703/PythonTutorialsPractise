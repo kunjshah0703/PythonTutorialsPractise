{
 "cells": [
  {
   "cell_type": "code",
   "execution_count": 1,
   "id": "494c95ce",
   "metadata": {},
   "outputs": [],
   "source": [
    "import numpy as np"
   ]
  },
  {
   "cell_type": "markdown",
   "id": "1b189847",
   "metadata": {},
   "source": [
    "Dot Product"
   ]
  },
  {
   "cell_type": "code",
   "execution_count": 2,
   "id": "fd98f4e3",
   "metadata": {},
   "outputs": [],
   "source": [
    "x = np.array([2, 8, -4])\n",
    "y = np.array([1, -7, 3])"
   ]
  },
  {
   "cell_type": "code",
   "execution_count": 3,
   "id": "26c21844",
   "metadata": {},
   "outputs": [
    {
     "data": {
      "text/plain": [
       "-66"
      ]
     },
     "execution_count": 3,
     "metadata": {},
     "output_type": "execute_result"
    }
   ],
   "source": [
    "np.dot(x, y)"
   ]
  },
  {
   "cell_type": "code",
   "execution_count": 4,
   "id": "900eb2e1",
   "metadata": {},
   "outputs": [],
   "source": [
    "u = np.array([0, 2, 5, 8])\n",
    "v = np.array([20, 3, 4, -1])"
   ]
  },
  {
   "cell_type": "code",
   "execution_count": 5,
   "id": "79d1d108",
   "metadata": {},
   "outputs": [
    {
     "data": {
      "text/plain": [
       "18"
      ]
     },
     "execution_count": 5,
     "metadata": {},
     "output_type": "execute_result"
    }
   ],
   "source": [
    "np.dot(u, v)"
   ]
  },
  {
   "cell_type": "markdown",
   "id": "8cb95841",
   "metadata": {},
   "source": [
    "Scalar * Scalar"
   ]
  },
  {
   "cell_type": "code",
   "execution_count": 6,
   "id": "b446b9c6",
   "metadata": {},
   "outputs": [
    {
     "data": {
      "text/plain": [
       "30"
      ]
     },
     "execution_count": 6,
     "metadata": {},
     "output_type": "execute_result"
    }
   ],
   "source": [
    "np.dot(5, 6)"
   ]
  },
  {
   "cell_type": "code",
   "execution_count": 8,
   "id": "4931bd69",
   "metadata": {},
   "outputs": [
    {
     "data": {
      "text/plain": [
       "-20"
      ]
     },
     "execution_count": 8,
     "metadata": {},
     "output_type": "execute_result"
    }
   ],
   "source": [
    "np.dot(10, -2)"
   ]
  },
  {
   "cell_type": "markdown",
   "id": "1ddfce3d",
   "metadata": {},
   "source": [
    "Scalar * Vector"
   ]
  },
  {
   "cell_type": "code",
   "execution_count": 9,
   "id": "52b1b4b5",
   "metadata": {},
   "outputs": [
    {
     "data": {
      "text/plain": [
       "array([ 2,  8, -4])"
      ]
     },
     "execution_count": 9,
     "metadata": {},
     "output_type": "execute_result"
    }
   ],
   "source": [
    "x"
   ]
  },
  {
   "cell_type": "code",
   "execution_count": 10,
   "id": "c82e489a",
   "metadata": {},
   "outputs": [
    {
     "data": {
      "text/plain": [
       "array([ 10,  40, -20])"
      ]
     },
     "execution_count": 10,
     "metadata": {},
     "output_type": "execute_result"
    }
   ],
   "source": [
    "5 * x"
   ]
  }
 ],
 "metadata": {
  "kernelspec": {
   "display_name": "Python 3 (ipykernel)",
   "language": "python",
   "name": "python3"
  },
  "language_info": {
   "codemirror_mode": {
    "name": "ipython",
    "version": 3
   },
   "file_extension": ".py",
   "mimetype": "text/x-python",
   "name": "python",
   "nbconvert_exporter": "python",
   "pygments_lexer": "ipython3",
   "version": "3.9.12"
  }
 },
 "nbformat": 4,
 "nbformat_minor": 5
}
