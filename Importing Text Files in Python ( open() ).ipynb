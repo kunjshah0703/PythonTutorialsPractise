{
 "cells": [
  {
   "cell_type": "code",
   "execution_count": 22,
   "id": "7c9af02f",
   "metadata": {},
   "outputs": [],
   "source": [
    "filename = \"source.txt\""
   ]
  },
  {
   "cell_type": "code",
   "execution_count": 11,
   "id": "766f65fb",
   "metadata": {},
   "outputs": [
    {
     "data": {
      "text/plain": [
       "'source.txt'"
      ]
     },
     "execution_count": 11,
     "metadata": {},
     "output_type": "execute_result"
    }
   ],
   "source": [
    "filename"
   ]
  },
  {
   "cell_type": "code",
   "execution_count": 12,
   "id": "9a67c5e2",
   "metadata": {},
   "outputs": [],
   "source": [
    "file = open(filename, mode = 'r')"
   ]
  },
  {
   "cell_type": "code",
   "execution_count": 13,
   "id": "bced7766",
   "metadata": {},
   "outputs": [
    {
     "data": {
      "text/plain": [
       "<_io.TextIOWrapper name='source.txt' mode='r' encoding='cp1252'>"
      ]
     },
     "execution_count": 13,
     "metadata": {},
     "output_type": "execute_result"
    }
   ],
   "source": [
    "file"
   ]
  },
  {
   "cell_type": "code",
   "execution_count": 15,
   "id": "00a756af",
   "metadata": {},
   "outputs": [
    {
     "data": {
      "text/plain": [
       "''"
      ]
     },
     "execution_count": 15,
     "metadata": {},
     "output_type": "execute_result"
    }
   ],
   "source": [
    "file.read()"
   ]
  },
  {
   "cell_type": "code",
   "execution_count": 16,
   "id": "d410a511",
   "metadata": {},
   "outputs": [
    {
     "data": {
      "text/plain": [
       "'This is the simplest plain text file!\\n'"
      ]
     },
     "execution_count": 16,
     "metadata": {},
     "output_type": "execute_result"
    }
   ],
   "source": [
    "file = open(filename, mode = 'r')\n",
    "text = file.read()\n",
    "text"
   ]
  },
  {
   "cell_type": "code",
   "execution_count": 17,
   "id": "8f5c623a",
   "metadata": {},
   "outputs": [
    {
     "data": {
      "text/plain": [
       "False"
      ]
     },
     "execution_count": 17,
     "metadata": {},
     "output_type": "execute_result"
    }
   ],
   "source": [
    "file.closed"
   ]
  },
  {
   "cell_type": "code",
   "execution_count": 18,
   "id": "9b97b7d9",
   "metadata": {},
   "outputs": [],
   "source": [
    "file.close() # Closing function for a file"
   ]
  },
  {
   "cell_type": "code",
   "execution_count": 20,
   "id": "7ef27200",
   "metadata": {},
   "outputs": [
    {
     "data": {
      "text/plain": [
       "True"
      ]
     },
     "execution_count": 20,
     "metadata": {},
     "output_type": "execute_result"
    }
   ],
   "source": [
    "file.closed # Checking the status of the file whether it is closed or not."
   ]
  },
  {
   "cell_type": "code",
   "execution_count": 21,
   "id": "18bdaf64",
   "metadata": {},
   "outputs": [
    {
     "name": "stdout",
     "output_type": "stream",
     "text": [
      "This is the simplest plain text file!\n",
      "\n"
     ]
    }
   ],
   "source": [
    "print(text)"
   ]
  },
  {
   "cell_type": "code",
   "execution_count": 23,
   "id": "8d09f814",
   "metadata": {},
   "outputs": [],
   "source": [
    "filename = 'source.txt'"
   ]
  },
  {
   "cell_type": "code",
   "execution_count": 27,
   "id": "2c716a07",
   "metadata": {},
   "outputs": [],
   "source": [
    "with open(filename, mode = 'w') as out_file:\n",
    "    out_file.write(\"It is not so simple anymore!\")"
   ]
  },
  {
   "cell_type": "code",
   "execution_count": 28,
   "id": "e2eb826f",
   "metadata": {},
   "outputs": [
    {
     "name": "stdout",
     "output_type": "stream",
     "text": [
      "This is the simplest plain text file!\n",
      "\n"
     ]
    }
   ],
   "source": [
    "print(text)"
   ]
  },
  {
   "cell_type": "code",
   "execution_count": 29,
   "id": "8a2f7cd9",
   "metadata": {},
   "outputs": [
    {
     "name": "stdout",
     "output_type": "stream",
     "text": [
      "<_io.TextIOWrapper name='source.txt' mode='w' encoding='cp1252'>\n"
     ]
    }
   ],
   "source": [
    "print(out_file)"
   ]
  },
  {
   "cell_type": "code",
   "execution_count": 30,
   "id": "ad40f5a0",
   "metadata": {},
   "outputs": [
    {
     "name": "stdout",
     "output_type": "stream",
     "text": [
      "It is not so simple anymore!\n"
     ]
    }
   ],
   "source": [
    "with open(filename, mode = 'r') as out_file:\n",
    "    new_text = out_file.read()\n",
    "print(new_text)"
   ]
  }
 ],
 "metadata": {
  "kernelspec": {
   "display_name": "Python 3 (ipykernel)",
   "language": "python",
   "name": "python3"
  },
  "language_info": {
   "codemirror_mode": {
    "name": "ipython",
    "version": 3
   },
   "file_extension": ".py",
   "mimetype": "text/x-python",
   "name": "python",
   "nbconvert_exporter": "python",
   "pygments_lexer": "ipython3",
   "version": "3.9.12"
  }
 },
 "nbformat": 4,
 "nbformat_minor": 5
}
