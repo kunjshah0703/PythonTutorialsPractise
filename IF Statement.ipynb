{
 "cells": [
  {
   "cell_type": "code",
   "execution_count": 1,
   "id": "0dfa830d",
   "metadata": {},
   "outputs": [
    {
     "name": "stdout",
     "output_type": "stream",
     "text": [
      "Hooray !\n"
     ]
    }
   ],
   "source": [
    "if 5 == 15 / 3:\n",
    "    print(\"Hooray !\")"
   ]
  },
  {
   "cell_type": "code",
   "execution_count": 2,
   "id": "460e5f88",
   "metadata": {},
   "outputs": [],
   "source": [
    "if 5 == 18 / 3:\n",
    "    print(\"Horray !\")"
   ]
  },
  {
   "cell_type": "code",
   "execution_count": 3,
   "id": "2e3a483f",
   "metadata": {},
   "outputs": [
    {
     "name": "stdout",
     "output_type": "stream",
     "text": [
      "Horray !\n"
     ]
    }
   ],
   "source": [
    "if 5 != 3 * 6:\n",
    "    print(\"Horray !\")"
   ]
  }
 ],
 "metadata": {
  "kernelspec": {
   "display_name": "Python 3 (ipykernel)",
   "language": "python",
   "name": "python3"
  },
  "language_info": {
   "codemirror_mode": {
    "name": "ipython",
    "version": 3
   },
   "file_extension": ".py",
   "mimetype": "text/x-python",
   "name": "python",
   "nbconvert_exporter": "python",
   "pygments_lexer": "ipython3",
   "version": "3.9.12"
  }
 },
 "nbformat": 4,
 "nbformat_minor": 5
}
