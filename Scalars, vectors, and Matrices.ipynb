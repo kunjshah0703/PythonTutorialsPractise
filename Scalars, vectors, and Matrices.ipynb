{
 "cells": [
  {
   "cell_type": "markdown",
   "id": "17f62397",
   "metadata": {},
   "source": [
    "Import the relevant libraries"
   ]
  },
  {
   "cell_type": "code",
   "execution_count": 1,
   "id": "8ab4a945",
   "metadata": {},
   "outputs": [],
   "source": [
    "import numpy as np"
   ]
  },
  {
   "cell_type": "markdown",
   "id": "b59b0936",
   "metadata": {},
   "source": [
    "Declaring scalars, vectors and matrices"
   ]
  },
  {
   "cell_type": "markdown",
   "id": "a608313b",
   "metadata": {},
   "source": [
    "Scalars"
   ]
  },
  {
   "cell_type": "code",
   "execution_count": 2,
   "id": "515f700e",
   "metadata": {},
   "outputs": [],
   "source": [
    "s = 5"
   ]
  },
  {
   "cell_type": "code",
   "execution_count": 3,
   "id": "7b148999",
   "metadata": {},
   "outputs": [
    {
     "data": {
      "text/plain": [
       "5"
      ]
     },
     "execution_count": 3,
     "metadata": {},
     "output_type": "execute_result"
    }
   ],
   "source": [
    "s"
   ]
  },
  {
   "cell_type": "markdown",
   "id": "7a2c8e5c",
   "metadata": {},
   "source": [
    "Vectors"
   ]
  },
  {
   "cell_type": "code",
   "execution_count": 4,
   "id": "d0aab317",
   "metadata": {},
   "outputs": [],
   "source": [
    "v = np.array([5, -2, 4])"
   ]
  },
  {
   "cell_type": "code",
   "execution_count": 5,
   "id": "489525b6",
   "metadata": {},
   "outputs": [
    {
     "data": {
      "text/plain": [
       "array([ 5, -2,  4])"
      ]
     },
     "execution_count": 5,
     "metadata": {},
     "output_type": "execute_result"
    }
   ],
   "source": [
    "v"
   ]
  },
  {
   "cell_type": "markdown",
   "id": "4b7516e3",
   "metadata": {},
   "source": [
    "Matrices"
   ]
  },
  {
   "cell_type": "code",
   "execution_count": 6,
   "id": "080a0214",
   "metadata": {},
   "outputs": [],
   "source": [
    "m = np.array([[5, 12, 6],[-3, 0, 4]])"
   ]
  },
  {
   "cell_type": "code",
   "execution_count": 7,
   "id": "553a1414",
   "metadata": {},
   "outputs": [
    {
     "data": {
      "text/plain": [
       "array([[ 5, 12,  6],\n",
       "       [-3,  0,  4]])"
      ]
     },
     "execution_count": 7,
     "metadata": {},
     "output_type": "execute_result"
    }
   ],
   "source": [
    "m"
   ]
  },
  {
   "cell_type": "markdown",
   "id": "6e09a4b8",
   "metadata": {},
   "source": [
    "Data Types"
   ]
  },
  {
   "cell_type": "code",
   "execution_count": 8,
   "id": "4a002f8c",
   "metadata": {},
   "outputs": [
    {
     "data": {
      "text/plain": [
       "int"
      ]
     },
     "execution_count": 8,
     "metadata": {},
     "output_type": "execute_result"
    }
   ],
   "source": [
    "type(s)"
   ]
  },
  {
   "cell_type": "code",
   "execution_count": 9,
   "id": "a1c1f0b3",
   "metadata": {},
   "outputs": [
    {
     "data": {
      "text/plain": [
       "numpy.ndarray"
      ]
     },
     "execution_count": 9,
     "metadata": {},
     "output_type": "execute_result"
    }
   ],
   "source": [
    "type(v) # Here v is 1 Dimensional Array"
   ]
  },
  {
   "cell_type": "code",
   "execution_count": 10,
   "id": "885182d0",
   "metadata": {},
   "outputs": [
    {
     "data": {
      "text/plain": [
       "numpy.ndarray"
      ]
     },
     "execution_count": 10,
     "metadata": {},
     "output_type": "execute_result"
    }
   ],
   "source": [
    "type(m) # Here m is 2 Dimensional Array"
   ]
  },
  {
   "cell_type": "code",
   "execution_count": 11,
   "id": "6b15352a",
   "metadata": {},
   "outputs": [],
   "source": [
    "s_array = np.array(5)"
   ]
  },
  {
   "cell_type": "code",
   "execution_count": 12,
   "id": "49ddbf0a",
   "metadata": {},
   "outputs": [
    {
     "data": {
      "text/plain": [
       "numpy.ndarray"
      ]
     },
     "execution_count": 12,
     "metadata": {},
     "output_type": "execute_result"
    }
   ],
   "source": [
    "type(s_array)"
   ]
  },
  {
   "cell_type": "markdown",
   "id": "63fe2ed2",
   "metadata": {},
   "source": [
    "Data Shapes"
   ]
  },
  {
   "cell_type": "code",
   "execution_count": 14,
   "id": "12230600",
   "metadata": {},
   "outputs": [
    {
     "data": {
      "text/plain": [
       "(2, 3)"
      ]
     },
     "execution_count": 14,
     "metadata": {},
     "output_type": "execute_result"
    }
   ],
   "source": [
    "m.shape"
   ]
  },
  {
   "cell_type": "code",
   "execution_count": 15,
   "id": "bfbb4590",
   "metadata": {},
   "outputs": [
    {
     "data": {
      "text/plain": [
       "(3,)"
      ]
     },
     "execution_count": 15,
     "metadata": {},
     "output_type": "execute_result"
    }
   ],
   "source": [
    "v.shape"
   ]
  },
  {
   "cell_type": "code",
   "execution_count": 17,
   "id": "e4097fb9",
   "metadata": {},
   "outputs": [
    {
     "data": {
      "text/plain": [
       "array([[ 5, -2,  4]])"
      ]
     },
     "execution_count": 17,
     "metadata": {},
     "output_type": "execute_result"
    }
   ],
   "source": [
    "v.reshape(1,3)"
   ]
  },
  {
   "cell_type": "code",
   "execution_count": 19,
   "id": "51500411",
   "metadata": {},
   "outputs": [
    {
     "data": {
      "text/plain": [
       "array([[ 5],\n",
       "       [-2],\n",
       "       [ 4]])"
      ]
     },
     "execution_count": 19,
     "metadata": {},
     "output_type": "execute_result"
    }
   ],
   "source": [
    "v.reshape(3,1)"
   ]
  },
  {
   "cell_type": "code",
   "execution_count": 21,
   "id": "5ac48933",
   "metadata": {},
   "outputs": [
    {
     "data": {
      "text/plain": [
       "()"
      ]
     },
     "execution_count": 21,
     "metadata": {},
     "output_type": "execute_result"
    }
   ],
   "source": [
    "s_array.shape # Scalar is a 0-dimensional object that's why it doesn't have any shape"
   ]
  }
 ],
 "metadata": {
  "kernelspec": {
   "display_name": "Python 3 (ipykernel)",
   "language": "python",
   "name": "python3"
  },
  "language_info": {
   "codemirror_mode": {
    "name": "ipython",
    "version": 3
   },
   "file_extension": ".py",
   "mimetype": "text/x-python",
   "name": "python",
   "nbconvert_exporter": "python",
   "pygments_lexer": "ipython3",
   "version": "3.9.12"
  }
 },
 "nbformat": 4,
 "nbformat_minor": 5
}
