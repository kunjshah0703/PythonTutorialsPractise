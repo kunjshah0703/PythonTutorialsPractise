{
 "cells": [
  {
   "cell_type": "code",
   "execution_count": 3,
   "id": "8eea9e55",
   "metadata": {},
   "outputs": [
    {
     "name": "stdout",
     "output_type": "stream",
     "text": [
      "This product is from \n",
      "\n",
      "Category \"A\".\n"
     ]
    }
   ],
   "source": [
    "print('This product is from \\n\\nCategory \"A\".')"
   ]
  },
  {
   "cell_type": "code",
   "execution_count": 6,
   "id": "358c5415",
   "metadata": {},
   "outputs": [
    {
     "name": "stdout",
     "output_type": "stream",
     "text": [
      "This product is from Category \"A\". \tThat product is from Cateogry \"B\".\n"
     ]
    }
   ],
   "source": [
    "print('This product is from Category \"A\". \\t' 'That product is from Cateogry \"B\".')"
   ]
  },
  {
   "cell_type": "code",
   "execution_count": 8,
   "id": "0742b6fb",
   "metadata": {},
   "outputs": [
    {
     "name": "stdout",
     "output_type": "stream",
     "text": [
      "This product is from Category \"A\". \r",
      "Product 0001\n"
     ]
    }
   ],
   "source": [
    "print('This product is from Category \"A\". \\rProduct 0001')"
   ]
  }
 ],
 "metadata": {
  "kernelspec": {
   "display_name": "Python 3 (ipykernel)",
   "language": "python",
   "name": "python3"
  },
  "language_info": {
   "codemirror_mode": {
    "name": "ipython",
    "version": 3
   },
   "file_extension": ".py",
   "mimetype": "text/x-python",
   "name": "python",
   "nbconvert_exporter": "python",
   "pygments_lexer": "ipython3",
   "version": "3.9.12"
  }
 },
 "nbformat": 4,
 "nbformat_minor": 5
}
