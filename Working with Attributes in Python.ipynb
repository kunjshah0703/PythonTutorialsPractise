{
 "cells": [
  {
   "cell_type": "markdown",
   "id": "4dc86655",
   "metadata": {},
   "source": [
    "Working with Attributes in Python"
   ]
  },
  {
   "cell_type": "code",
   "execution_count": 1,
   "id": "6a93dfe6",
   "metadata": {},
   "outputs": [],
   "source": [
    "import pandas as pd"
   ]
  },
  {
   "cell_type": "code",
   "execution_count": 2,
   "id": "a1ce8c23",
   "metadata": {},
   "outputs": [
    {
     "data": {
      "text/plain": [
       "0    10\n",
       "1    20\n",
       "2    30\n",
       "3    40\n",
       "4    50\n",
       "dtype: int64"
      ]
     },
     "execution_count": 2,
     "metadata": {},
     "output_type": "execute_result"
    }
   ],
   "source": [
    "series_a = pd.Series([10, 20 ,30, 40, 50])\n",
    "series_a"
   ]
  },
  {
   "cell_type": "code",
   "execution_count": 3,
   "id": "37f86f64",
   "metadata": {},
   "outputs": [
    {
     "data": {
      "text/plain": [
       "dtype('int64')"
      ]
     },
     "execution_count": 3,
     "metadata": {},
     "output_type": "execute_result"
    }
   ],
   "source": [
    "series_a.dtype # For getting datatype of the value"
   ]
  },
  {
   "cell_type": "code",
   "execution_count": 4,
   "id": "ebd37a3f",
   "metadata": {},
   "outputs": [
    {
     "data": {
      "text/plain": [
       "5"
      ]
     },
     "execution_count": 4,
     "metadata": {},
     "output_type": "execute_result"
    }
   ],
   "source": [
    "series_a.size #Gives number of elements"
   ]
  },
  {
   "cell_type": "code",
   "execution_count": 5,
   "id": "69940c34",
   "metadata": {},
   "outputs": [
    {
     "data": {
      "text/plain": [
       "0    A\n",
       "1    B\n",
       "2    C\n",
       "3    D\n",
       "dtype: object"
      ]
     },
     "execution_count": 5,
     "metadata": {},
     "output_type": "execute_result"
    }
   ],
   "source": [
    "product_categories = pd.Series(['A', 'B', 'C', 'D'])\n",
    "product_categories"
   ]
  },
  {
   "cell_type": "code",
   "execution_count": 6,
   "id": "87677fa0",
   "metadata": {},
   "outputs": [
    {
     "data": {
      "text/plain": [
       "dtype('O')"
      ]
     },
     "execution_count": 6,
     "metadata": {},
     "output_type": "execute_result"
    }
   ],
   "source": [
    " product_categories.dtype"
   ]
  },
  {
   "cell_type": "code",
   "execution_count": 7,
   "id": "7ab2315a",
   "metadata": {},
   "outputs": [
    {
     "data": {
      "text/plain": [
       "4"
      ]
     },
     "execution_count": 7,
     "metadata": {},
     "output_type": "execute_result"
    }
   ],
   "source": [
    "product_categories.size"
   ]
  },
  {
   "cell_type": "code",
   "execution_count": 9,
   "id": "28c6e51f",
   "metadata": {},
   "outputs": [
    {
     "data": {
      "text/plain": [
       "int"
      ]
     },
     "execution_count": 9,
     "metadata": {},
     "output_type": "execute_result"
    }
   ],
   "source": [
    "type(product_categories.size)"
   ]
  },
  {
   "cell_type": "code",
   "execution_count": 10,
   "id": "2dbdfe68",
   "metadata": {},
   "outputs": [
    {
     "name": "stdout",
     "output_type": "stream",
     "text": [
      "0    A\n",
      "1    B\n",
      "2    C\n",
      "3    D\n",
      "dtype: object\n"
     ]
    }
   ],
   "source": [
    "print(product_categories)"
   ]
  },
  {
   "cell_type": "code",
   "execution_count": 11,
   "id": "58f97240",
   "metadata": {},
   "outputs": [
    {
     "name": "stdout",
     "output_type": "stream",
     "text": [
      "None\n"
     ]
    }
   ],
   "source": [
    "print(product_categories.name)"
   ]
  },
  {
   "cell_type": "code",
   "execution_count": 12,
   "id": "3c6485d3",
   "metadata": {},
   "outputs": [
    {
     "data": {
      "text/plain": [
       "0    A\n",
       "1    B\n",
       "2    C\n",
       "3    D\n",
       "Name: Product Categories, dtype: object"
      ]
     },
     "execution_count": 12,
     "metadata": {},
     "output_type": "execute_result"
    }
   ],
   "source": [
    "product_categories.name = \"Product Categories\"\n",
    "product_categories"
   ]
  },
  {
   "cell_type": "code",
   "execution_count": 13,
   "id": "cd61eb5d",
   "metadata": {},
   "outputs": [
    {
     "data": {
      "text/plain": [
       "'Product Categories'"
      ]
     },
     "execution_count": 13,
     "metadata": {},
     "output_type": "execute_result"
    }
   ],
   "source": [
    "product_categories.name"
   ]
  },
  {
   "cell_type": "code",
   "execution_count": 14,
   "id": "32d2be1a",
   "metadata": {},
   "outputs": [
    {
     "name": "stdout",
     "output_type": "stream",
     "text": [
      "0    A\n",
      "1    B\n",
      "2    C\n",
      "3    D\n",
      "Name: Product Categories, dtype: object\n"
     ]
    }
   ],
   "source": [
    "print(product_categories)"
   ]
  }
 ],
 "metadata": {
  "kernelspec": {
   "display_name": "Python 3 (ipykernel)",
   "language": "python",
   "name": "python3"
  },
  "language_info": {
   "codemirror_mode": {
    "name": "ipython",
    "version": 3
   },
   "file_extension": ".py",
   "mimetype": "text/x-python",
   "name": "python",
   "nbconvert_exporter": "python",
   "pygments_lexer": "ipython3",
   "version": "3.9.12"
  }
 },
 "nbformat": 4,
 "nbformat_minor": 5
}
