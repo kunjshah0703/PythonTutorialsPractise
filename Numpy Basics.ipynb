{
 "cells": [
  {
   "cell_type": "markdown",
   "id": "0fa73eb2",
   "metadata": {},
   "source": [
    "NumPy Basics"
   ]
  },
  {
   "cell_type": "markdown",
   "id": "0ea75cec",
   "metadata": {},
   "source": [
    "Installing & Updating the Package"
   ]
  },
  {
   "cell_type": "markdown",
   "id": "a36aed10",
   "metadata": {},
   "source": [
    "Numpy comes pre-installed if you are using Anaconda. pip install numpy"
   ]
  },
  {
   "cell_type": "markdown",
   "id": "63f6322b",
   "metadata": {},
   "source": [
    "To get the latest version: pip install numpy --upgrade"
   ]
  },
  {
   "cell_type": "markdown",
   "id": "6bfdca6c",
   "metadata": {},
   "source": [
    "Importing Numpy"
   ]
  },
  {
   "cell_type": "code",
   "execution_count": 1,
   "id": "83e66823",
   "metadata": {},
   "outputs": [],
   "source": [
    "import numpy as np"
   ]
  },
  {
   "cell_type": "markdown",
   "id": "d6407f9f",
   "metadata": {},
   "source": [
    "Using Numpy"
   ]
  },
  {
   "cell_type": "code",
   "execution_count": 2,
   "id": "da190ec4",
   "metadata": {},
   "outputs": [],
   "source": [
    "array_a = np.array([1, 2, 3])"
   ]
  },
  {
   "cell_type": "code",
   "execution_count": 3,
   "id": "a8f21391",
   "metadata": {},
   "outputs": [
    {
     "data": {
      "text/plain": [
       "array([1, 2, 3])"
      ]
     },
     "execution_count": 3,
     "metadata": {},
     "output_type": "execute_result"
    }
   ],
   "source": [
    "array_a"
   ]
  },
  {
   "cell_type": "code",
   "execution_count": 4,
   "id": "cc05a4b1",
   "metadata": {},
   "outputs": [
    {
     "data": {
      "text/plain": [
       "array([[1, 2, 3],\n",
       "       [4, 5, 6]])"
      ]
     },
     "execution_count": 4,
     "metadata": {},
     "output_type": "execute_result"
    }
   ],
   "source": [
    "array_b = np.array([[1, 2, 3],[4, 5, 6]])\n",
    "array_b"
   ]
  },
  {
   "cell_type": "markdown",
   "id": "adbbb349",
   "metadata": {},
   "source": [
    "NumPy Documentation"
   ]
  },
  {
   "cell_type": "markdown",
   "id": "fed09aaa",
   "metadata": {},
   "source": [
    "https://numpy.org/devdocs/"
   ]
  }
 ],
 "metadata": {
  "kernelspec": {
   "display_name": "Python 3 (ipykernel)",
   "language": "python",
   "name": "python3"
  },
  "language_info": {
   "codemirror_mode": {
    "name": "ipython",
    "version": 3
   },
   "file_extension": ".py",
   "mimetype": "text/x-python",
   "name": "python",
   "nbconvert_exporter": "python",
   "pygments_lexer": "ipython3",
   "version": "3.9.12"
  }
 },
 "nbformat": 4,
 "nbformat_minor": 5
}
