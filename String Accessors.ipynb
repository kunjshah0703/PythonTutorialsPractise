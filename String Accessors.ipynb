{
 "cells": [
  {
   "cell_type": "code",
   "execution_count": 1,
   "id": "d50e666f",
   "metadata": {},
   "outputs": [],
   "source": [
    "import pandas as pd"
   ]
  },
  {
   "cell_type": "code",
   "execution_count": 2,
   "id": "7492d6db",
   "metadata": {},
   "outputs": [
    {
     "data": {
      "text/plain": [
       "0    employee satisfaction rating\n",
       "1             employee churn rate\n",
       "dtype: object"
      ]
     },
     "execution_count": 2,
     "metadata": {},
     "output_type": "execute_result"
    }
   ],
   "source": [
    "operational_kpis = pd.Series([\"employee satisfaction rating\", \"employee churn rate\"])\n",
    "operational_kpis"
   ]
  },
  {
   "cell_type": "code",
   "execution_count": 3,
   "id": "2baa3c57",
   "metadata": {},
   "outputs": [
    {
     "ename": "AttributeError",
     "evalue": "'Series' object has no attribute 'lstrip'",
     "output_type": "error",
     "traceback": [
      "\u001b[1;31m---------------------------------------------------------------------------\u001b[0m",
      "\u001b[1;31mAttributeError\u001b[0m                            Traceback (most recent call last)",
      "Input \u001b[1;32mIn [3]\u001b[0m, in \u001b[0;36m<cell line: 1>\u001b[1;34m()\u001b[0m\n\u001b[1;32m----> 1\u001b[0m \u001b[43moperational_kpis\u001b[49m\u001b[38;5;241;43m.\u001b[39;49m\u001b[43mlstrip\u001b[49m(\u001b[38;5;124m'\u001b[39m\u001b[38;5;124memployee\u001b[39m\u001b[38;5;124m'\u001b[39m)\n",
      "File \u001b[1;32m~\\AppData\\Roaming\\Python\\Python39\\site-packages\\pandas\\core\\generic.py:5902\u001b[0m, in \u001b[0;36mNDFrame.__getattr__\u001b[1;34m(self, name)\u001b[0m\n\u001b[0;32m   5895\u001b[0m \u001b[38;5;28;01mif\u001b[39;00m (\n\u001b[0;32m   5896\u001b[0m     name \u001b[38;5;129;01mnot\u001b[39;00m \u001b[38;5;129;01min\u001b[39;00m \u001b[38;5;28mself\u001b[39m\u001b[38;5;241m.\u001b[39m_internal_names_set\n\u001b[0;32m   5897\u001b[0m     \u001b[38;5;129;01mand\u001b[39;00m name \u001b[38;5;129;01mnot\u001b[39;00m \u001b[38;5;129;01min\u001b[39;00m \u001b[38;5;28mself\u001b[39m\u001b[38;5;241m.\u001b[39m_metadata\n\u001b[0;32m   5898\u001b[0m     \u001b[38;5;129;01mand\u001b[39;00m name \u001b[38;5;129;01mnot\u001b[39;00m \u001b[38;5;129;01min\u001b[39;00m \u001b[38;5;28mself\u001b[39m\u001b[38;5;241m.\u001b[39m_accessors\n\u001b[0;32m   5899\u001b[0m     \u001b[38;5;129;01mand\u001b[39;00m \u001b[38;5;28mself\u001b[39m\u001b[38;5;241m.\u001b[39m_info_axis\u001b[38;5;241m.\u001b[39m_can_hold_identifiers_and_holds_name(name)\n\u001b[0;32m   5900\u001b[0m ):\n\u001b[0;32m   5901\u001b[0m     \u001b[38;5;28;01mreturn\u001b[39;00m \u001b[38;5;28mself\u001b[39m[name]\n\u001b[1;32m-> 5902\u001b[0m \u001b[38;5;28;01mreturn\u001b[39;00m \u001b[38;5;28;43mobject\u001b[39;49m\u001b[38;5;241;43m.\u001b[39;49m\u001b[38;5;21;43m__getattribute__\u001b[39;49m\u001b[43m(\u001b[49m\u001b[38;5;28;43mself\u001b[39;49m\u001b[43m,\u001b[49m\u001b[43m \u001b[49m\u001b[43mname\u001b[49m\u001b[43m)\u001b[49m\n",
      "\u001b[1;31mAttributeError\u001b[0m: 'Series' object has no attribute 'lstrip'"
     ]
    }
   ],
   "source": [
    "operational_kpis.lstrip('employee')"
   ]
  },
  {
   "cell_type": "code",
   "execution_count": 5,
   "id": "10f9418f",
   "metadata": {},
   "outputs": [
    {
     "data": {
      "text/plain": [
       "' satisfaction rating'"
      ]
     },
     "execution_count": 5,
     "metadata": {},
     "output_type": "execute_result"
    }
   ],
   "source": [
    "operational_kpis[0].lstrip('employee')"
   ]
  },
  {
   "cell_type": "code",
   "execution_count": 6,
   "id": "23c181c8",
   "metadata": {},
   "outputs": [
    {
     "data": {
      "text/plain": [
       "' churn rate'"
      ]
     },
     "execution_count": 6,
     "metadata": {},
     "output_type": "execute_result"
    }
   ],
   "source": [
    "operational_kpis[1].lstrip('employee')"
   ]
  },
  {
   "cell_type": "code",
   "execution_count": 7,
   "id": "9796576e",
   "metadata": {},
   "outputs": [
    {
     "data": {
      "text/plain": [
       "0     satisfaction rating\n",
       "1              churn rate\n",
       "dtype: object"
      ]
     },
     "execution_count": 7,
     "metadata": {},
     "output_type": "execute_result"
    }
   ],
   "source": [
    "pd.Series([operational_kpis[0].lstrip('employee'), operational_kpis[1].lstrip('employee')])"
   ]
  },
  {
   "cell_type": "code",
   "execution_count": 8,
   "id": "9c788ed8",
   "metadata": {},
   "outputs": [
    {
     "data": {
      "text/plain": [
       "<pandas.core.strings.accessor.StringMethods at 0x1d408455d00>"
      ]
     },
     "execution_count": 8,
     "metadata": {},
     "output_type": "execute_result"
    }
   ],
   "source": [
    "operational_kpis.str"
   ]
  },
  {
   "cell_type": "code",
   "execution_count": 9,
   "id": "f6b781ed",
   "metadata": {},
   "outputs": [
    {
     "data": {
      "text/plain": [
       "0    m\n",
       "1    m\n",
       "dtype: object"
      ]
     },
     "execution_count": 9,
     "metadata": {},
     "output_type": "execute_result"
    }
   ],
   "source": [
    "operational_kpis.str[1]"
   ]
  },
  {
   "cell_type": "code",
   "execution_count": 10,
   "id": "cb04fa92",
   "metadata": {},
   "outputs": [
    {
     "data": {
      "text/plain": [
       "'employee churn rate'"
      ]
     },
     "execution_count": 10,
     "metadata": {},
     "output_type": "execute_result"
    }
   ],
   "source": [
    "operational_kpis[1]"
   ]
  },
  {
   "cell_type": "code",
   "execution_count": 12,
   "id": "6973e377",
   "metadata": {},
   "outputs": [
    {
     "data": {
      "text/plain": [
       "0     satisfaction rating\n",
       "1              churn rate\n",
       "dtype: object"
      ]
     },
     "execution_count": 12,
     "metadata": {},
     "output_type": "execute_result"
    }
   ],
   "source": [
    "operational_kpis.str.lstrip('employee')"
   ]
  },
  {
   "cell_type": "code",
   "execution_count": 13,
   "id": "d32c763b",
   "metadata": {},
   "outputs": [
    {
     "data": {
      "text/plain": [
       "0    Text_data\n",
       "1           34\n",
       "dtype: object"
      ]
     },
     "execution_count": 13,
     "metadata": {},
     "output_type": "execute_result"
    }
   ],
   "source": [
    "test_series = pd.Series(['Text_data', 34])\n",
    "test_series"
   ]
  },
  {
   "cell_type": "code",
   "execution_count": 14,
   "id": "874a66dd",
   "metadata": {},
   "outputs": [
    {
     "data": {
      "text/plain": [
       "0    data\n",
       "1     NaN\n",
       "dtype: object"
      ]
     },
     "execution_count": 14,
     "metadata": {},
     "output_type": "execute_result"
    }
   ],
   "source": [
    "test_series.str.lstrip('Text_')"
   ]
  },
  {
   "cell_type": "code",
   "execution_count": 15,
   "id": "283b61d8",
   "metadata": {},
   "outputs": [],
   "source": [
    "test_series = pd.Series(['Text_data', '34'])"
   ]
  },
  {
   "cell_type": "code",
   "execution_count": 16,
   "id": "cff425d9",
   "metadata": {},
   "outputs": [
    {
     "data": {
      "text/plain": [
       "0    data\n",
       "1      34\n",
       "dtype: object"
      ]
     },
     "execution_count": 16,
     "metadata": {},
     "output_type": "execute_result"
    }
   ],
   "source": [
    "test_series.str.lstrip('Text_')"
   ]
  },
  {
   "cell_type": "code",
   "execution_count": 17,
   "id": "4701611e",
   "metadata": {},
   "outputs": [
    {
     "data": {
      "text/plain": [
       "0    $400,000\n",
       "1    $500,000\n",
       "2    $600,000\n",
       "dtype: object"
      ]
     },
     "execution_count": 17,
     "metadata": {},
     "output_type": "execute_result"
    }
   ],
   "source": [
    "house_prices = pd.Series(['$400,000', '$500,000', '$600,000'])\n",
    "house_prices"
   ]
  },
  {
   "cell_type": "code",
   "execution_count": 18,
   "id": "ceeb8342",
   "metadata": {},
   "outputs": [
    {
     "data": {
      "text/plain": [
       "0    True\n",
       "1    True\n",
       "2    True\n",
       "dtype: bool"
      ]
     },
     "execution_count": 18,
     "metadata": {},
     "output_type": "execute_result"
    }
   ],
   "source": [
    "house_prices.str.contains('$')"
   ]
  }
 ],
 "metadata": {
  "kernelspec": {
   "display_name": "Python 3 (ipykernel)",
   "language": "python",
   "name": "python3"
  },
  "language_info": {
   "codemirror_mode": {
    "name": "ipython",
    "version": 3
   },
   "file_extension": ".py",
   "mimetype": "text/x-python",
   "name": "python",
   "nbconvert_exporter": "python",
   "pygments_lexer": "ipython3",
   "version": "3.9.12"
  }
 },
 "nbformat": 4,
 "nbformat_minor": 5
}
